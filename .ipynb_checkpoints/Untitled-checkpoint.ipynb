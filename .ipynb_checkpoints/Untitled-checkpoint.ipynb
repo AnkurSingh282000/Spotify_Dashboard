{
 "cells": [
  {
   "cell_type": "code",
   "execution_count": 2,
   "id": "a7466287-895b-4bec-bc8e-3f8418943fdf",
   "metadata": {},
   "outputs": [],
   "source": [
    "import pandas as pd"
   ]
  },
  {
   "cell_type": "code",
   "execution_count": 3,
   "id": "90f84221-cd57-490a-8df9-bef6608d78ab",
   "metadata": {},
   "outputs": [],
   "source": [
    "playlist_tracks = pd.read_csv(\"Dataset/playlist_tracks_df.csv\")\n",
    "artist_details = pd.read_csv(\"Dataset/artist_details_df.csv\")\n",
    "audio_features = pd.read_csv(\"Dataset/audio_features_df.csv\")\n",
    "related_artists = pd.read_csv(\"Dataset/related_artists_df.csv\")"
   ]
  },
  {
   "cell_type": "markdown",
   "id": "dfabf428-f1ba-469a-9453-baaa33edfcae",
   "metadata": {},
   "source": [
    "# Data cleaning"
   ]
  },
  {
   "cell_type": "code",
   "execution_count": 42,
   "id": "c48eb4d3-5197-4cb7-b7f2-8f1c380fb386",
   "metadata": {},
   "outputs": [
    {
     "data": {
      "text/plain": [
       "Index(['Track ID', 'Artist Names', 'Artist IDs', 'Track Name',\n",
       "       'Track Popularity', 'Date Released', 'Date Added'],\n",
       "      dtype='object')"
      ]
     },
     "execution_count": 42,
     "metadata": {},
     "output_type": "execute_result"
    }
   ],
   "source": [
    "playlist_tracks.columns"
   ]
  },
  {
   "cell_type": "code",
   "execution_count": 5,
   "id": "04300794-d897-4ee1-8b80-e36c971c41e1",
   "metadata": {},
   "outputs": [],
   "source": [
    "playlist_tracks.drop('Unnamed: 0', inplace=True, axis = \"columns\")"
   ]
  },
  {
   "cell_type": "code",
   "execution_count": 50,
   "id": "c440e00b-87bb-4755-ae3a-21d392b8c46e",
   "metadata": {},
   "outputs": [
    {
     "data": {
      "text/html": [
       "<div>\n",
       "<style scoped>\n",
       "    .dataframe tbody tr th:only-of-type {\n",
       "        vertical-align: middle;\n",
       "    }\n",
       "\n",
       "    .dataframe tbody tr th {\n",
       "        vertical-align: top;\n",
       "    }\n",
       "\n",
       "    .dataframe thead th {\n",
       "        text-align: right;\n",
       "    }\n",
       "</style>\n",
       "<table border=\"1\" class=\"dataframe\">\n",
       "  <thead>\n",
       "    <tr style=\"text-align: right;\">\n",
       "      <th></th>\n",
       "      <th>Track ID</th>\n",
       "      <th>Artist Names</th>\n",
       "      <th>Artist IDs</th>\n",
       "      <th>Track Name</th>\n",
       "      <th>Track Popularity</th>\n",
       "      <th>Date Released</th>\n",
       "      <th>Date Added</th>\n",
       "    </tr>\n",
       "  </thead>\n",
       "  <tbody>\n",
       "    <tr>\n",
       "      <th>0</th>\n",
       "      <td>4VsP4Dm8gsibRxB5I2hEkw</td>\n",
       "      <td>Kaifi Khalil</td>\n",
       "      <td>1n9EM0Y4A89vuRiA93gSS9</td>\n",
       "      <td>Kahani Suno 2.0</td>\n",
       "      <td>81</td>\n",
       "      <td>2022-05-31</td>\n",
       "      <td>2023-03-01</td>\n",
       "    </tr>\n",
       "    <tr>\n",
       "      <th>1</th>\n",
       "      <td>1zhpW0PLYAhzF3X49GaAOX</td>\n",
       "      <td>Sachin-Jigar</td>\n",
       "      <td>1mBydYMVBECdDmMfE2sEUO</td>\n",
       "      <td>Apna Bana Le</td>\n",
       "      <td>76</td>\n",
       "      <td>2022-12-06</td>\n",
       "      <td>2023-03-01</td>\n",
       "    </tr>\n",
       "    <tr>\n",
       "      <th>1</th>\n",
       "      <td>1zhpW0PLYAhzF3X49GaAOX</td>\n",
       "      <td>Sachin-Jigar</td>\n",
       "      <td>4YRxDV8wJFPHPTeXepOstw</td>\n",
       "      <td>Apna Bana Le</td>\n",
       "      <td>76</td>\n",
       "      <td>2022-12-06</td>\n",
       "      <td>2023-03-01</td>\n",
       "    </tr>\n",
       "    <tr>\n",
       "      <th>1</th>\n",
       "      <td>1zhpW0PLYAhzF3X49GaAOX</td>\n",
       "      <td>Sachin-Jigar</td>\n",
       "      <td>2fMqTqiTxUDlmcOEPaQSsx</td>\n",
       "      <td>Apna Bana Le</td>\n",
       "      <td>76</td>\n",
       "      <td>2022-12-06</td>\n",
       "      <td>2023-03-01</td>\n",
       "    </tr>\n",
       "    <tr>\n",
       "      <th>1</th>\n",
       "      <td>1zhpW0PLYAhzF3X49GaAOX</td>\n",
       "      <td>Arijit Singh</td>\n",
       "      <td>1mBydYMVBECdDmMfE2sEUO</td>\n",
       "      <td>Apna Bana Le</td>\n",
       "      <td>76</td>\n",
       "      <td>2022-12-06</td>\n",
       "      <td>2023-03-01</td>\n",
       "    </tr>\n",
       "  </tbody>\n",
       "</table>\n",
       "</div>"
      ],
      "text/plain": [
       "                 Track ID  Artist Names              Artist IDs  \\\n",
       "0  4VsP4Dm8gsibRxB5I2hEkw  Kaifi Khalil  1n9EM0Y4A89vuRiA93gSS9   \n",
       "1  1zhpW0PLYAhzF3X49GaAOX  Sachin-Jigar  1mBydYMVBECdDmMfE2sEUO   \n",
       "1  1zhpW0PLYAhzF3X49GaAOX  Sachin-Jigar  4YRxDV8wJFPHPTeXepOstw   \n",
       "1  1zhpW0PLYAhzF3X49GaAOX  Sachin-Jigar  2fMqTqiTxUDlmcOEPaQSsx   \n",
       "1  1zhpW0PLYAhzF3X49GaAOX  Arijit Singh  1mBydYMVBECdDmMfE2sEUO   \n",
       "\n",
       "        Track Name  Track Popularity Date Released  Date Added  \n",
       "0  Kahani Suno 2.0                81    2022-05-31  2023-03-01  \n",
       "1     Apna Bana Le                76    2022-12-06  2023-03-01  \n",
       "1     Apna Bana Le                76    2022-12-06  2023-03-01  \n",
       "1     Apna Bana Le                76    2022-12-06  2023-03-01  \n",
       "1     Apna Bana Le                76    2022-12-06  2023-03-01  "
      ]
     },
     "execution_count": 50,
     "metadata": {},
     "output_type": "execute_result"
    }
   ],
   "source": [
    "playlist_tracks.head()"
   ]
  },
  {
   "cell_type": "code",
   "execution_count": 29,
   "id": "c7570307-b3ed-4b42-8d9c-4b302f234a8b",
   "metadata": {},
   "outputs": [],
   "source": [
    "playlist_tracks[\"Date Added\"] = playlist_tracks[\"Date Added\"].dt.date"
   ]
  },
  {
   "cell_type": "code",
   "execution_count": 49,
   "id": "71a6ca21-e980-427b-a9f5-5c91d4550024",
   "metadata": {},
   "outputs": [],
   "source": [
    "import ast\n",
    "\n",
    "# convert string columns to lists\n",
    "playlist_tracks['Artist Names'] = playlist_tracks['Artist Names'].apply(ast.literal_eval)\n",
    "playlist_tracks['Artist IDs'] = playlist_tracks['Artist IDs'].apply(ast.literal_eval)\n",
    "\n",
    "# explode the 'Artist Names' column\n",
    "playlist_tracks = playlist_tracks.explode('Artist Names')\n",
    "\n",
    "# explode the 'Artist IDs' column\n",
    "playlist_tracks = playlist_tracks.explode('Artist IDs')"
   ]
  },
  {
   "cell_type": "code",
   "execution_count": 44,
   "id": "b1e09dbd-fcd1-4c0a-b727-052b2ca94fae",
   "metadata": {},
   "outputs": [
    {
     "data": {
      "text/plain": [
       "Index(['Track ID', 'Artist Names', 'Artist IDs', 'Track Name',\n",
       "       'Track Popularity', 'Date Released', 'Date Added'],\n",
       "      dtype='object')"
      ]
     },
     "execution_count": 44,
     "metadata": {},
     "output_type": "execute_result"
    }
   ],
   "source": [
    "playlist_tracks.columns"
   ]
  },
  {
   "cell_type": "code",
   "execution_count": 7,
   "id": "45dc53f7-b039-4c4d-a9f2-42da5ad73a9e",
   "metadata": {},
   "outputs": [],
   "source": [
    "playlist_tracks['Date Added'] = pd.to_datetime(playlist_tracks['Date Added'])"
   ]
  },
  {
   "cell_type": "code",
   "execution_count": 8,
   "id": "4fc9af91-8d51-4509-9578-85e7d793d4a9",
   "metadata": {},
   "outputs": [],
   "source": [
    "playlist_tracks['Date Released'] = pd.to_datetime(playlist_tracks['Date Released'])"
   ]
  },
  {
   "cell_type": "code",
   "execution_count": 51,
   "id": "a0eeeaa2-02d2-4b13-95df-2cb5d0402b39",
   "metadata": {},
   "outputs": [
    {
     "name": "stdout",
     "output_type": "stream",
     "text": [
      "<class 'pandas.core.frame.DataFrame'>\n",
      "Int64Index: 333 entries, 0 to 49\n",
      "Data columns (total 7 columns):\n",
      " #   Column            Non-Null Count  Dtype         \n",
      "---  ------            --------------  -----         \n",
      " 0   Track ID          333 non-null    object        \n",
      " 1   Artist Names      333 non-null    object        \n",
      " 2   Artist IDs        333 non-null    object        \n",
      " 3   Track Name        333 non-null    object        \n",
      " 4   Track Popularity  333 non-null    int64         \n",
      " 5   Date Released     333 non-null    datetime64[ns]\n",
      " 6   Date Added        333 non-null    object        \n",
      "dtypes: datetime64[ns](1), int64(1), object(5)\n",
      "memory usage: 20.8+ KB\n"
     ]
    }
   ],
   "source": [
    "playlist_tracks.info()"
   ]
  },
  {
   "cell_type": "code",
   "execution_count": 13,
   "id": "f5f170a6-20dd-46d9-9d66-d30354cd18b7",
   "metadata": {},
   "outputs": [],
   "source": [
    "artist_details.drop('Unnamed: 0', inplace=True, axis = \"columns\")"
   ]
  },
  {
   "cell_type": "code",
   "execution_count": 16,
   "id": "2a9014e8-b2d6-42bb-953b-581e87590224",
   "metadata": {},
   "outputs": [
    {
     "data": {
      "text/html": [
       "<div>\n",
       "<style scoped>\n",
       "    .dataframe tbody tr th:only-of-type {\n",
       "        vertical-align: middle;\n",
       "    }\n",
       "\n",
       "    .dataframe tbody tr th {\n",
       "        vertical-align: top;\n",
       "    }\n",
       "\n",
       "    .dataframe thead th {\n",
       "        text-align: right;\n",
       "    }\n",
       "</style>\n",
       "<table border=\"1\" class=\"dataframe\">\n",
       "  <thead>\n",
       "    <tr style=\"text-align: right;\">\n",
       "      <th></th>\n",
       "      <th>Artist ID</th>\n",
       "      <th>Artist Name</th>\n",
       "      <th>Num Followers</th>\n",
       "      <th>Genres</th>\n",
       "      <th>Popularity</th>\n",
       "    </tr>\n",
       "  </thead>\n",
       "  <tbody>\n",
       "    <tr>\n",
       "      <th>0</th>\n",
       "      <td>3lmszXxkp47K9kDCRRPU8p</td>\n",
       "      <td>Laddi Chahal</td>\n",
       "      <td>24504</td>\n",
       "      <td>['desi pop', 'punjabi pop']</td>\n",
       "      <td>62</td>\n",
       "    </tr>\n",
       "    <tr>\n",
       "      <th>1</th>\n",
       "      <td>6nAMu7pGqdwUSsGMZPUvSk</td>\n",
       "      <td>40k</td>\n",
       "      <td>751</td>\n",
       "      <td>[]</td>\n",
       "      <td>60</td>\n",
       "    </tr>\n",
       "    <tr>\n",
       "      <th>2</th>\n",
       "      <td>1rdQOMFFtoskDXXUVjiGo9</td>\n",
       "      <td>Shweta Mohan</td>\n",
       "      <td>750829</td>\n",
       "      <td>['filmi', 'tamil pop']</td>\n",
       "      <td>71</td>\n",
       "    </tr>\n",
       "    <tr>\n",
       "      <th>3</th>\n",
       "      <td>3gBKY0y3dFFVRqicLnVZYz</td>\n",
       "      <td>Alka Yagnik</td>\n",
       "      <td>8427469</td>\n",
       "      <td>['classic bollywood', 'desi pop', 'filmi', 'ha...</td>\n",
       "      <td>81</td>\n",
       "    </tr>\n",
       "    <tr>\n",
       "      <th>4</th>\n",
       "      <td>1i31OYo0s5VoMCaMRJFZkJ</td>\n",
       "      <td>The Paul</td>\n",
       "      <td>354</td>\n",
       "      <td>[]</td>\n",
       "      <td>60</td>\n",
       "    </tr>\n",
       "  </tbody>\n",
       "</table>\n",
       "</div>"
      ],
      "text/plain": [
       "                Artist ID   Artist Name  Num Followers  \\\n",
       "0  3lmszXxkp47K9kDCRRPU8p  Laddi Chahal          24504   \n",
       "1  6nAMu7pGqdwUSsGMZPUvSk           40k            751   \n",
       "2  1rdQOMFFtoskDXXUVjiGo9  Shweta Mohan         750829   \n",
       "3  3gBKY0y3dFFVRqicLnVZYz   Alka Yagnik        8427469   \n",
       "4  1i31OYo0s5VoMCaMRJFZkJ      The Paul            354   \n",
       "\n",
       "                                              Genres  Popularity  \n",
       "0                        ['desi pop', 'punjabi pop']          62  \n",
       "1                                                 []          60  \n",
       "2                             ['filmi', 'tamil pop']          71  \n",
       "3  ['classic bollywood', 'desi pop', 'filmi', 'ha...          81  \n",
       "4                                                 []          60  "
      ]
     },
     "execution_count": 16,
     "metadata": {},
     "output_type": "execute_result"
    }
   ],
   "source": [
    "artist_details.head()"
   ]
  },
  {
   "cell_type": "code",
   "execution_count": 22,
   "id": "f76b506d-29ab-45b6-9c08-8efd4f05721e",
   "metadata": {},
   "outputs": [
    {
     "name": "stdout",
     "output_type": "stream",
     "text": [
      "<class 'pandas.core.frame.DataFrame'>\n",
      "RangeIndex: 82 entries, 0 to 81\n",
      "Data columns (total 5 columns):\n",
      " #   Column         Non-Null Count  Dtype \n",
      "---  ------         --------------  ----- \n",
      " 0   Artist ID      82 non-null     object\n",
      " 1   Artist Name    82 non-null     object\n",
      " 2   Num Followers  82 non-null     int64 \n",
      " 3   Genres         82 non-null     object\n",
      " 4   Popularity     82 non-null     int64 \n",
      "dtypes: int64(2), object(3)\n",
      "memory usage: 3.3+ KB\n"
     ]
    }
   ],
   "source": [
    "artist_details.info()"
   ]
  },
  {
   "cell_type": "code",
   "execution_count": 19,
   "id": "4ff8dd2b-e3e8-4864-852d-fa0e6b996720",
   "metadata": {},
   "outputs": [
    {
     "data": {
      "text/html": [
       "<div>\n",
       "<style scoped>\n",
       "    .dataframe tbody tr th:only-of-type {\n",
       "        vertical-align: middle;\n",
       "    }\n",
       "\n",
       "    .dataframe tbody tr th {\n",
       "        vertical-align: top;\n",
       "    }\n",
       "\n",
       "    .dataframe thead th {\n",
       "        text-align: right;\n",
       "    }\n",
       "</style>\n",
       "<table border=\"1\" class=\"dataframe\">\n",
       "  <thead>\n",
       "    <tr style=\"text-align: right;\">\n",
       "      <th></th>\n",
       "      <th>track_id</th>\n",
       "      <th>analysis_url</th>\n",
       "      <th>acousticness</th>\n",
       "      <th>danceability</th>\n",
       "      <th>duration_ms</th>\n",
       "      <th>energy</th>\n",
       "      <th>instrumentalness</th>\n",
       "      <th>key</th>\n",
       "      <th>liveness</th>\n",
       "      <th>loudness</th>\n",
       "      <th>mode</th>\n",
       "      <th>speechiness</th>\n",
       "      <th>tempo</th>\n",
       "      <th>time_signature</th>\n",
       "      <th>valence</th>\n",
       "    </tr>\n",
       "  </thead>\n",
       "  <tbody>\n",
       "    <tr>\n",
       "      <th>0</th>\n",
       "      <td>4VsP4Dm8gsibRxB5I2hEkw</td>\n",
       "      <td>https://api.spotify.com/v1/audio-analysis/4VsP...</td>\n",
       "      <td>0.9090</td>\n",
       "      <td>0.577</td>\n",
       "      <td>173638</td>\n",
       "      <td>0.379</td>\n",
       "      <td>0.000586</td>\n",
       "      <td>11</td>\n",
       "      <td>0.0986</td>\n",
       "      <td>-13.235</td>\n",
       "      <td>1</td>\n",
       "      <td>0.0374</td>\n",
       "      <td>139.585</td>\n",
       "      <td>3</td>\n",
       "      <td>0.260</td>\n",
       "    </tr>\n",
       "    <tr>\n",
       "      <th>1</th>\n",
       "      <td>1zhpW0PLYAhzF3X49GaAOX</td>\n",
       "      <td>https://api.spotify.com/v1/audio-analysis/1zhp...</td>\n",
       "      <td>0.8030</td>\n",
       "      <td>0.586</td>\n",
       "      <td>261702</td>\n",
       "      <td>0.562</td>\n",
       "      <td>0.000006</td>\n",
       "      <td>9</td>\n",
       "      <td>0.0630</td>\n",
       "      <td>-7.399</td>\n",
       "      <td>1</td>\n",
       "      <td>0.0267</td>\n",
       "      <td>93.982</td>\n",
       "      <td>4</td>\n",
       "      <td>0.436</td>\n",
       "    </tr>\n",
       "    <tr>\n",
       "      <th>2</th>\n",
       "      <td>1418IuVKQPTYqt7QNJ9RXN</td>\n",
       "      <td>https://api.spotify.com/v1/audio-analysis/1418...</td>\n",
       "      <td>0.3540</td>\n",
       "      <td>0.698</td>\n",
       "      <td>194654</td>\n",
       "      <td>0.505</td>\n",
       "      <td>0.000000</td>\n",
       "      <td>6</td>\n",
       "      <td>0.0995</td>\n",
       "      <td>-8.242</td>\n",
       "      <td>0</td>\n",
       "      <td>0.0356</td>\n",
       "      <td>95.868</td>\n",
       "      <td>4</td>\n",
       "      <td>0.396</td>\n",
       "    </tr>\n",
       "    <tr>\n",
       "      <th>3</th>\n",
       "      <td>6FAYpZ4jve8vpvTwUvjK6H</td>\n",
       "      <td>https://api.spotify.com/v1/audio-analysis/6FAY...</td>\n",
       "      <td>0.0964</td>\n",
       "      <td>0.817</td>\n",
       "      <td>208164</td>\n",
       "      <td>0.738</td>\n",
       "      <td>0.000000</td>\n",
       "      <td>7</td>\n",
       "      <td>0.3310</td>\n",
       "      <td>-7.639</td>\n",
       "      <td>1</td>\n",
       "      <td>0.0748</td>\n",
       "      <td>104.964</td>\n",
       "      <td>4</td>\n",
       "      <td>0.616</td>\n",
       "    </tr>\n",
       "    <tr>\n",
       "      <th>4</th>\n",
       "      <td>0CtZpaOhtzvLV3FfcsVpQo</td>\n",
       "      <td>https://api.spotify.com/v1/audio-analysis/0CtZ...</td>\n",
       "      <td>0.0587</td>\n",
       "      <td>0.773</td>\n",
       "      <td>258474</td>\n",
       "      <td>0.795</td>\n",
       "      <td>0.002370</td>\n",
       "      <td>8</td>\n",
       "      <td>0.1540</td>\n",
       "      <td>-5.537</td>\n",
       "      <td>0</td>\n",
       "      <td>0.0412</td>\n",
       "      <td>115.997</td>\n",
       "      <td>4</td>\n",
       "      <td>0.649</td>\n",
       "    </tr>\n",
       "  </tbody>\n",
       "</table>\n",
       "</div>"
      ],
      "text/plain": [
       "                 track_id                                       analysis_url  \\\n",
       "0  4VsP4Dm8gsibRxB5I2hEkw  https://api.spotify.com/v1/audio-analysis/4VsP...   \n",
       "1  1zhpW0PLYAhzF3X49GaAOX  https://api.spotify.com/v1/audio-analysis/1zhp...   \n",
       "2  1418IuVKQPTYqt7QNJ9RXN  https://api.spotify.com/v1/audio-analysis/1418...   \n",
       "3  6FAYpZ4jve8vpvTwUvjK6H  https://api.spotify.com/v1/audio-analysis/6FAY...   \n",
       "4  0CtZpaOhtzvLV3FfcsVpQo  https://api.spotify.com/v1/audio-analysis/0CtZ...   \n",
       "\n",
       "   acousticness  danceability  duration_ms  energy  instrumentalness  key  \\\n",
       "0        0.9090         0.577       173638   0.379          0.000586   11   \n",
       "1        0.8030         0.586       261702   0.562          0.000006    9   \n",
       "2        0.3540         0.698       194654   0.505          0.000000    6   \n",
       "3        0.0964         0.817       208164   0.738          0.000000    7   \n",
       "4        0.0587         0.773       258474   0.795          0.002370    8   \n",
       "\n",
       "   liveness  loudness  mode  speechiness    tempo  time_signature  valence  \n",
       "0    0.0986   -13.235     1       0.0374  139.585               3    0.260  \n",
       "1    0.0630    -7.399     1       0.0267   93.982               4    0.436  \n",
       "2    0.0995    -8.242     0       0.0356   95.868               4    0.396  \n",
       "3    0.3310    -7.639     1       0.0748  104.964               4    0.616  \n",
       "4    0.1540    -5.537     0       0.0412  115.997               4    0.649  "
      ]
     },
     "execution_count": 19,
     "metadata": {},
     "output_type": "execute_result"
    }
   ],
   "source": [
    "audio_features.head()"
   ]
  },
  {
   "cell_type": "code",
   "execution_count": 18,
   "id": "b190a991-6558-4683-96d7-64dde08c933a",
   "metadata": {},
   "outputs": [],
   "source": [
    "audio_features.drop('Unnamed: 0', inplace=True, axis = \"columns\")"
   ]
  },
  {
   "cell_type": "code",
   "execution_count": 24,
   "id": "7e2d92a3-5ee3-4f61-aa73-f96bf8df0491",
   "metadata": {},
   "outputs": [
    {
     "data": {
      "text/html": [
       "<div>\n",
       "<style scoped>\n",
       "    .dataframe tbody tr th:only-of-type {\n",
       "        vertical-align: middle;\n",
       "    }\n",
       "\n",
       "    .dataframe tbody tr th {\n",
       "        vertical-align: top;\n",
       "    }\n",
       "\n",
       "    .dataframe thead th {\n",
       "        text-align: right;\n",
       "    }\n",
       "</style>\n",
       "<table border=\"1\" class=\"dataframe\">\n",
       "  <thead>\n",
       "    <tr style=\"text-align: right;\">\n",
       "      <th></th>\n",
       "      <th>Artist ID</th>\n",
       "      <th>Related Artist ID</th>\n",
       "      <th>Related Artist Name</th>\n",
       "    </tr>\n",
       "  </thead>\n",
       "  <tbody>\n",
       "    <tr>\n",
       "      <th>0</th>\n",
       "      <td>3lmszXxkp47K9kDCRRPU8p</td>\n",
       "      <td>2hmIpieYhZEQJDzlWpNMQg</td>\n",
       "      <td>Romey Maan</td>\n",
       "    </tr>\n",
       "    <tr>\n",
       "      <th>1</th>\n",
       "      <td>3lmszXxkp47K9kDCRRPU8p</td>\n",
       "      <td>3OQRPFFS3OsltFjFAXu1kE</td>\n",
       "      <td>Parmish Verma</td>\n",
       "    </tr>\n",
       "    <tr>\n",
       "      <th>2</th>\n",
       "      <td>3lmszXxkp47K9kDCRRPU8p</td>\n",
       "      <td>4j4SDkxwy0Z68dIh5Vr7fh</td>\n",
       "      <td>Bhindder Burj</td>\n",
       "    </tr>\n",
       "    <tr>\n",
       "      <th>3</th>\n",
       "      <td>3lmszXxkp47K9kDCRRPU8p</td>\n",
       "      <td>28kGdf2ant8i73Fab2F7xq</td>\n",
       "      <td>Amantej Hundal</td>\n",
       "    </tr>\n",
       "    <tr>\n",
       "      <th>4</th>\n",
       "      <td>3lmszXxkp47K9kDCRRPU8p</td>\n",
       "      <td>5wGjQPYmBAnDmtNeOMoavY</td>\n",
       "      <td>Tyson Sidhu</td>\n",
       "    </tr>\n",
       "  </tbody>\n",
       "</table>\n",
       "</div>"
      ],
      "text/plain": [
       "                Artist ID       Related Artist ID Related Artist Name\n",
       "0  3lmszXxkp47K9kDCRRPU8p  2hmIpieYhZEQJDzlWpNMQg          Romey Maan\n",
       "1  3lmszXxkp47K9kDCRRPU8p  3OQRPFFS3OsltFjFAXu1kE       Parmish Verma\n",
       "2  3lmszXxkp47K9kDCRRPU8p  4j4SDkxwy0Z68dIh5Vr7fh       Bhindder Burj\n",
       "3  3lmszXxkp47K9kDCRRPU8p  28kGdf2ant8i73Fab2F7xq      Amantej Hundal\n",
       "4  3lmszXxkp47K9kDCRRPU8p  5wGjQPYmBAnDmtNeOMoavY         Tyson Sidhu"
      ]
     },
     "execution_count": 24,
     "metadata": {},
     "output_type": "execute_result"
    }
   ],
   "source": [
    "related_artists.head()"
   ]
  },
  {
   "cell_type": "code",
   "execution_count": 23,
   "id": "4c7cfc77-cef1-4f1c-8389-b31fecddf675",
   "metadata": {},
   "outputs": [],
   "source": [
    "related_artists.drop('Unnamed: 0', inplace=True, axis = \"columns\")"
   ]
  },
  {
   "cell_type": "code",
   "execution_count": null,
   "id": "1d193564-1efd-47d8-817d-d87c53903c9d",
   "metadata": {},
   "outputs": [],
   "source": []
  }
 ],
 "metadata": {
  "kernelspec": {
   "display_name": "Python 3 (ipykernel)",
   "language": "python",
   "name": "python3"
  },
  "language_info": {
   "codemirror_mode": {
    "name": "ipython",
    "version": 3
   },
   "file_extension": ".py",
   "mimetype": "text/x-python",
   "name": "python",
   "nbconvert_exporter": "python",
   "pygments_lexer": "ipython3",
   "version": "3.10.2"
  }
 },
 "nbformat": 4,
 "nbformat_minor": 5
}
